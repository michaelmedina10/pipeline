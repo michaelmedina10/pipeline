{
 "cells": [
  {
   "cell_type": "code",
   "execution_count": 9,
   "metadata": {},
   "outputs": [],
   "source": [
    "import pandas as pd\n",
    "import json\n",
    "import yaml"
   ]
  },
  {
   "cell_type": "code",
   "execution_count": 18,
   "metadata": {},
   "outputs": [],
   "source": [
    "# Instructions\n",
    "def read_json(path: str):\n",
    "    with open(path, 'r') as f:\n",
    "        data = json.load(f)\n",
    "    return data\n",
    "\n",
    "def read_yaml(path:str = 'instructions/instructions.yaml'):\n",
    "    with open(path, 'r') as f:\n",
    "        data = yaml.safe_load(f)\n",
    "    return data\n",
    "\n",
    "# Pipeline\n",
    "def transform_to_pandas(path: dict):\n",
    "    df = pd.DataFrame(read_json(path))\n",
    "    return df\n",
    "\n",
    "def transform_pipeline(df: pd.DataFrame, instructions_pipeline: list) -> pd.DataFrame:\n",
    "    for function in instructions_pipeline:\n",
    "        df = df.pipe(function['function'], **function['params'])\n",
    "\n",
    "# Pandas Function\n",
    "def multiplier(df: pd.DataFrame, new_column_name: str, column_target: str, multiplier: int = 1):\n",
    "    df[new_column_name] = df[column_target].apply(lambda x: x * multiplier)\n",
    "    return df\n",
    "\n",
    "def rename_columns(df: pd.DataFrame, old_column: str, new_column: str):\n",
    "    df = df.rename(columns={old_column: new_column})\n",
    "    return df"
   ]
  },
  {
   "cell_type": "code",
   "execution_count": 20,
   "metadata": {},
   "outputs": [
    {
     "ename": "TypeError",
     "evalue": "'str' object is not callable",
     "output_type": "error",
     "traceback": [
      "\u001b[0;31m---------------------------------------------------------------------------\u001b[0m",
      "\u001b[0;31mTypeError\u001b[0m                                 Traceback (most recent call last)",
      "\u001b[1;32m/Users/medina/Documents/estudos/python/pipeline/src/asd.ipynb Cell 3\u001b[0m line \u001b[0;36m6\n\u001b[1;32m      <a href='vscode-notebook-cell:/Users/medina/Documents/estudos/python/pipeline/src/asd.ipynb#W4sZmlsZQ%3D%3D?line=3'>4</a>\u001b[0m \u001b[39mfor\u001b[39;00m key, value \u001b[39min\u001b[39;00m instructions\u001b[39m.\u001b[39mitems():\n\u001b[1;32m      <a href='vscode-notebook-cell:/Users/medina/Documents/estudos/python/pipeline/src/asd.ipynb#W4sZmlsZQ%3D%3D?line=4'>5</a>\u001b[0m     \u001b[39mfor\u001b[39;00m key, pipeline \u001b[39min\u001b[39;00m value\u001b[39m.\u001b[39mitems():\n\u001b[0;32m----> <a href='vscode-notebook-cell:/Users/medina/Documents/estudos/python/pipeline/src/asd.ipynb#W4sZmlsZQ%3D%3D?line=5'>6</a>\u001b[0m         df \u001b[39m=\u001b[39m transform_pipeline(df, pipeline)\n",
      "\u001b[1;32m/Users/medina/Documents/estudos/python/pipeline/src/asd.ipynb Cell 3\u001b[0m line \u001b[0;36m1\n\u001b[1;32m     <a href='vscode-notebook-cell:/Users/medina/Documents/estudos/python/pipeline/src/asd.ipynb#W4sZmlsZQ%3D%3D?line=16'>17</a>\u001b[0m \u001b[39mdef\u001b[39;00m \u001b[39mtransform_pipeline\u001b[39m(df: pd\u001b[39m.\u001b[39mDataFrame, instructions_pipeline: \u001b[39mlist\u001b[39m) \u001b[39m-\u001b[39m\u001b[39m>\u001b[39m pd\u001b[39m.\u001b[39mDataFrame:\n\u001b[1;32m     <a href='vscode-notebook-cell:/Users/medina/Documents/estudos/python/pipeline/src/asd.ipynb#W4sZmlsZQ%3D%3D?line=17'>18</a>\u001b[0m     \u001b[39mfor\u001b[39;00m function \u001b[39min\u001b[39;00m instructions_pipeline:\n\u001b[0;32m---> <a href='vscode-notebook-cell:/Users/medina/Documents/estudos/python/pipeline/src/asd.ipynb#W4sZmlsZQ%3D%3D?line=18'>19</a>\u001b[0m         df \u001b[39m=\u001b[39m df\u001b[39m.\u001b[39;49mpipe(function[\u001b[39m'\u001b[39;49m\u001b[39mfunction\u001b[39;49m\u001b[39m'\u001b[39;49m], \u001b[39m*\u001b[39;49m\u001b[39m*\u001b[39;49mfunction[\u001b[39m'\u001b[39;49m\u001b[39mparams\u001b[39;49m\u001b[39m'\u001b[39;49m])\n",
      "File \u001b[0;32m~/Documents/estudos/python/pipeline/.venv/lib/python3.11/site-packages/pandas/core/generic.py:6142\u001b[0m, in \u001b[0;36mNDFrame.pipe\u001b[0;34m(self, func, *args, **kwargs)\u001b[0m\n\u001b[1;32m   6140\u001b[0m \u001b[39mif\u001b[39;00m using_copy_on_write():\n\u001b[1;32m   6141\u001b[0m     \u001b[39mreturn\u001b[39;00m common\u001b[39m.\u001b[39mpipe(\u001b[39mself\u001b[39m\u001b[39m.\u001b[39mcopy(deep\u001b[39m=\u001b[39m\u001b[39mNone\u001b[39;00m), func, \u001b[39m*\u001b[39margs, \u001b[39m*\u001b[39m\u001b[39m*\u001b[39mkwargs)\n\u001b[0;32m-> 6142\u001b[0m \u001b[39mreturn\u001b[39;00m common\u001b[39m.\u001b[39;49mpipe(\u001b[39mself\u001b[39;49m, func, \u001b[39m*\u001b[39;49margs, \u001b[39m*\u001b[39;49m\u001b[39m*\u001b[39;49mkwargs)\n",
      "File \u001b[0;32m~/Documents/estudos/python/pipeline/.venv/lib/python3.11/site-packages/pandas/core/common.py:497\u001b[0m, in \u001b[0;36mpipe\u001b[0;34m(obj, func, *args, **kwargs)\u001b[0m\n\u001b[1;32m    495\u001b[0m     \u001b[39mreturn\u001b[39;00m func(\u001b[39m*\u001b[39margs, \u001b[39m*\u001b[39m\u001b[39m*\u001b[39mkwargs)\n\u001b[1;32m    496\u001b[0m \u001b[39melse\u001b[39;00m:\n\u001b[0;32m--> 497\u001b[0m     \u001b[39mreturn\u001b[39;00m func(obj, \u001b[39m*\u001b[39;49margs, \u001b[39m*\u001b[39;49m\u001b[39m*\u001b[39;49mkwargs)\n",
      "\u001b[0;31mTypeError\u001b[0m: 'str' object is not callable"
     ]
    }
   ],
   "source": [
    "\n",
    "instructions = read_yaml()\n",
    "source_path = instructions['people_description'].pop('get_data')\n",
    "df = transform_to_pandas(**source_path)\n",
    "for key, value in instructions.items():\n",
    "    for key, pipeline in value.items():\n",
    "        df = transform_pipeline(df, pipeline)"
   ]
  },
  {
   "cell_type": "code",
   "execution_count": null,
   "metadata": {},
   "outputs": [],
   "source": []
  }
 ],
 "metadata": {
  "kernelspec": {
   "display_name": ".venv",
   "language": "python",
   "name": "python3"
  },
  "language_info": {
   "codemirror_mode": {
    "name": "ipython",
    "version": 3
   },
   "file_extension": ".py",
   "mimetype": "text/x-python",
   "name": "python",
   "nbconvert_exporter": "python",
   "pygments_lexer": "ipython3",
   "version": "3.11.4"
  }
 },
 "nbformat": 4,
 "nbformat_minor": 2
}
