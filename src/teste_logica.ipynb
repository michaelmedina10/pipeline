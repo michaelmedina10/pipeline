{
 "cells": [
  {
   "cell_type": "code",
   "execution_count": 1,
   "metadata": {},
   "outputs": [],
   "source": [
    "from instructions_pipeline.pipeline import pipeline\n",
    "from utils.handle_file import read_pickle\n",
    "import pandas as pd\n",
    "\n",
    "data = pipeline()"
   ]
  },
  {
   "cell_type": "code",
   "execution_count": 4,
   "metadata": {},
   "outputs": [
    {
     "data": {
      "text/html": [
       "<div>\n",
       "<style scoped>\n",
       "    .dataframe tbody tr th:only-of-type {\n",
       "        vertical-align: middle;\n",
       "    }\n",
       "\n",
       "    .dataframe tbody tr th {\n",
       "        vertical-align: top;\n",
       "    }\n",
       "\n",
       "    .dataframe thead th {\n",
       "        text-align: right;\n",
       "    }\n",
       "</style>\n",
       "<table border=\"1\" class=\"dataframe\">\n",
       "  <thead>\n",
       "    <tr style=\"text-align: right;\">\n",
       "      <th></th>\n",
       "      <th>nome</th>\n",
       "      <th>idade</th>\n",
       "      <th>peso(kg)</th>\n",
       "      <th>altura(cm)</th>\n",
       "      <th>gramas</th>\n",
       "      <th>teste</th>\n",
       "    </tr>\n",
       "  </thead>\n",
       "  <tbody>\n",
       "    <tr>\n",
       "      <th>0</th>\n",
       "      <td>mic</td>\n",
       "      <td>26</td>\n",
       "      <td>71</td>\n",
       "      <td>175</td>\n",
       "      <td>71000</td>\n",
       "      <td>10</td>\n",
       "    </tr>\n",
       "    <tr>\n",
       "      <th>1</th>\n",
       "      <td>mic2</td>\n",
       "      <td>26</td>\n",
       "      <td>71</td>\n",
       "      <td>175</td>\n",
       "      <td>71000</td>\n",
       "      <td>10</td>\n",
       "    </tr>\n",
       "    <tr>\n",
       "      <th>2</th>\n",
       "      <td>mic3</td>\n",
       "      <td>26</td>\n",
       "      <td>71</td>\n",
       "      <td>175</td>\n",
       "      <td>71000</td>\n",
       "      <td>10</td>\n",
       "    </tr>\n",
       "    <tr>\n",
       "      <th>3</th>\n",
       "      <td>mic3</td>\n",
       "      <td>26</td>\n",
       "      <td>71</td>\n",
       "      <td>175</td>\n",
       "      <td>71000</td>\n",
       "      <td>10</td>\n",
       "    </tr>\n",
       "    <tr>\n",
       "      <th>4</th>\n",
       "      <td>mic4</td>\n",
       "      <td>27</td>\n",
       "      <td>71</td>\n",
       "      <td>175</td>\n",
       "      <td>71000</td>\n",
       "      <td>10</td>\n",
       "    </tr>\n",
       "  </tbody>\n",
       "</table>\n",
       "</div>"
      ],
      "text/plain": [
       "   nome  idade  peso(kg)  altura(cm)  gramas  teste\n",
       "0   mic     26        71         175   71000     10\n",
       "1  mic2     26        71         175   71000     10\n",
       "2  mic3     26        71         175   71000     10\n",
       "3  mic3     26        71         175   71000     10\n",
       "4  mic4     27        71         175   71000     10"
      ]
     },
     "execution_count": 4,
     "metadata": {},
     "output_type": "execute_result"
    }
   ],
   "source": [
    "data['people_description'].head()"
   ]
  },
  {
   "cell_type": "code",
   "execution_count": null,
   "metadata": {},
   "outputs": [],
   "source": []
  }
 ],
 "metadata": {
  "kernelspec": {
   "display_name": ".venv",
   "language": "python",
   "name": "python3"
  },
  "language_info": {
   "codemirror_mode": {
    "name": "ipython",
    "version": 3
   },
   "file_extension": ".py",
   "mimetype": "text/x-python",
   "name": "python",
   "nbconvert_exporter": "python",
   "pygments_lexer": "ipython3",
   "version": "3.11.4"
  }
 },
 "nbformat": 4,
 "nbformat_minor": 2
}
